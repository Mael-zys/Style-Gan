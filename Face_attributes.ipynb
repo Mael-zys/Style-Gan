{
  "nbformat": 4,
  "nbformat_minor": 0,
  "metadata": {
    "colab": {
      "name": "Face_attributes.ipynb",
      "provenance": [],
      "collapsed_sections": [],
      "authorship_tag": "ABX9TyPjOZc0pQTmXhkjn7bm1sv1",
      "include_colab_link": true
    },
    "kernelspec": {
      "name": "python3",
      "display_name": "Python 3"
    },
    "language_info": {
      "name": "python"
    }
  },
  "cells": [
    {
      "cell_type": "markdown",
      "metadata": {
        "id": "view-in-github",
        "colab_type": "text"
      },
      "source": [
        "<a href=\"https://colab.research.google.com/github/Mael-zys/Style-Gan/blob/main/Face_attributes.ipynb\" target=\"_parent\"><img src=\"https://colab.research.google.com/assets/colab-badge.svg\" alt=\"Open In Colab\"/></a>"
      ]
    },
    {
      "cell_type": "markdown",
      "metadata": {
        "id": "Py3e9Wp18Rnr"
      },
      "source": [
        "# Build CAFFE CPU-ONLY IN COLAB"
      ]
    },
    {
      "cell_type": "markdown",
      "metadata": {
        "id": "XQvmCog47-v0"
      },
      "source": [
        "(In case anything goes wrong)"
      ]
    },
    {
      "cell_type": "code",
      "metadata": {
        "id": "qgY6PLn_moHI"
      },
      "source": [
        "#!kill -9 -1"
      ],
      "execution_count": null,
      "outputs": []
    },
    {
      "cell_type": "code",
      "metadata": {
        "id": "wBaWVl3Nm4hJ",
        "colab": {
          "base_uri": "https://localhost:8080/"
        },
        "outputId": "fc85d967-88bb-4eac-9b8a-f3e0f45d151d"
      },
      "source": [
        "!ls"
      ],
      "execution_count": null,
      "outputs": [
        {
          "output_type": "stream",
          "text": [
            "caffe  drive  sample_data\n"
          ],
          "name": "stdout"
        }
      ]
    },
    {
      "cell_type": "markdown",
      "metadata": {
        "id": "IVaxaW4t1D3R"
      },
      "source": [
        "main commands needed before install caffe, it will take some time"
      ]
    },
    {
      "cell_type": "code",
      "metadata": {
        "id": "DSFvAQqG422z",
        "colab": {
          "base_uri": "https://localhost:8080/"
        },
        "outputId": "2312e408-5206-4434-c25f-46c992c8c779"
      },
      "source": [
        "print(\"Install deps and gcc\")\n",
        "\n",
        "with open('/etc/apt/sources.list') as f:\n",
        "  txt = f.read()\n",
        "with open('/etc/apt/sources.list', 'w') as f:\n",
        "  f.write(txt.replace('# deb-src','deb-src'))\n",
        "  \n",
        "t=!apt update\n",
        "t=!apt upgrade\n",
        "t=!sudo apt-get install -y build-essential cmake git pkg-config libprotobuf-dev libleveldb-dev libsnappy-dev libhdf5-serial-dev protobuf-compiler libatlas-base-dev libgflags-dev libgoogle-glog-dev liblmdb-dev  python3-dev python-numpy python-scipy libopencv-dev liblapack-dev liblapack3 libopenblas-base libopenblas-dev \n",
        "t=!sudo apt-get install -y --no-install-recommends libboost-all-dev\n",
        "\n",
        "print(\"Get boost\")\n",
        "\n",
        "t=!wget https://dl.bintray.com/boostorg/release/1.67.0/source/boost_1_67_0.tar.bz2\n",
        "t=!tar --bzip2 -xf boost_1_67_0.tar.bz2\n",
        "\n",
        "print(\"Compile boost\")\n",
        "\n",
        "t=!cd boost_1_67_0 && ./bootstrap.sh --exec-prefix=/usr/local --with-libraries=system,filesystem,regex,thread,python \\\n",
        "--with-python-version=2.7 --with-python-root=/usr\n",
        "t=!cd boost_1_67_0 && ./b2 install\n",
        "t=!sudo apt-get install libgflags-dev\n",
        "t=!sudo apt-get install protobuf\n",
        "\n",
        "\n",
        "\n"
      ],
      "execution_count": null,
      "outputs": [
        {
          "output_type": "stream",
          "text": [
            "Install deps and gcc\n",
            "Get boost\n",
            "Compile boost\n"
          ],
          "name": "stdout"
        }
      ]
    },
    {
      "cell_type": "markdown",
      "metadata": {
        "id": "fVD3W6h22P8A"
      },
      "source": [
        "Install Caffe for CPU-ONLY "
      ]
    },
    {
      "cell_type": "code",
      "metadata": {
        "id": "S3DsNm6_4-Hi",
        "colab": {
          "base_uri": "https://localhost:8080/"
        },
        "outputId": "05f3781b-4a16-4a0d-b57f-09464359f452"
      },
      "source": [
        "print(\"Clone Caffe and configure it\")\n",
        "\n",
        "t=!git clone https://github.com/weiliu89/caffe.git && cd caffe && git checkout ssd\n",
        "  \n",
        "with open('caffe/Makefile.config.example') as f:\n",
        "  config = f.read()\n",
        "comment = ['BLAS := open']\n",
        "uncomment = ['# CPU_ONLY := 1','# BLAS := atlas', \n",
        "             '# OPENCV_VERSION := 3', '# WITH_PYTHON_LAYER := 1'] #\n",
        "replace = [('INCLUDE_DIRS := $(PYTHON_INCLUDE) /usr/local/include',\n",
        "            'INCLUDE_DIRS := $(PYTHON_INCLUDE) /usr/local/include /usr/include/hdf5/serial /usr/local/lib/python2.7/dist-packages/numpy/core/include/'), \n",
        "           ('LIBRARY_DIRS := $(PYTHON_LIB) /usr/local/lib /usr/lib',\n",
        "            'LIBRARY_DIRS := $(PYTHON_LIB) /usr/local/lib /usr/lib /usr/lib/x86_64-linux-gnu/hdf5/serial')]\n",
        "for c in uncomment:\n",
        "  config = config.replace(c, c[2:])\n",
        "for c in comment:\n",
        "  config = config.replace(c, '# '+c)\n",
        "for c1,c2 in replace:\n",
        "  config = config.replace(c1, c2)\n",
        "with open('caffe/Makefile.config', 'w') as f:\n",
        "  f.write(config)\n",
        "  \n",
        "with open('caffe/Makefile') as f:\n",
        "  mfile = f.read()\n",
        "with open('caffe/Makefile', 'w') as f:\n",
        "  f.write(mfile.replace('-isystem','-I'))\n",
        "  \n",
        "print(\"Make Caffe\")\n",
        "\n",
        "#t=!cd caffe && make -j8 && make pycaffe && make test -j8 && make distribute\n",
        "\n",
        "t=!cd caffe && make clean && make -j8 && make pycaffe && make distribute\n",
        "print('\\n'.join(t[-10:]))\n",
        "\n",
        "t=!echo /usr/local/lib >> /etc/ld.so.conf && ldconfig\n",
        "t=!echo /content/caffe/distribute/lib >> /etc/ld.so.conf && ldconfig\n",
        "\n",
        "print(\"DONE\")"
      ],
      "execution_count": null,
      "outputs": [
        {
          "output_type": "stream",
          "text": [
            "Clone Caffe and configure it\n",
            "Make Caffe\n",
            "cp .build_release/src/caffe/proto/caffe.pb.h distribute/include/caffe/proto\n",
            "# add tool and example binaries\n",
            "cp .build_release/tools/train_net.bin .build_release/tools/upgrade_net_proto_binary.bin .build_release/tools/upgrade_solver_proto_text.bin .build_release/tools/upgrade_net_proto_text.bin .build_release/tools/get_image_size.bin .build_release/tools/convert_imageset.bin .build_release/tools/test_net.bin .build_release/tools/convert_annoset.bin .build_release/tools/create_label_map.bin .build_release/tools/finetune_net.bin .build_release/tools/caffe.bin .build_release/tools/device_query.bin .build_release/tools/net_speed_benchmark.bin .build_release/tools/compute_image_mean.bin .build_release/tools/extract_features.bin distribute/bin\n",
            "cp .build_release/examples/cifar10/convert_cifar_data.bin .build_release/examples/cpp_classification/classification.bin .build_release/examples/siamese/convert_mnist_siamese_data.bin .build_release/examples/mnist/convert_mnist_data.bin .build_release/examples/ssd/ssd_detect.bin distribute/bin\n",
            "# add libraries\n",
            "cp .build_release/lib/libcaffe.a distribute/lib\n",
            "install -m 644 .build_release/lib/libcaffe.so.1.0.0-rc3 distribute/lib\n",
            "cd distribute/lib; rm -f libcaffe.so;   ln -s libcaffe.so.1.0.0-rc3 libcaffe.so\n",
            "# add python - it's not the standard way, indeed...\n",
            "cp -r python distribute/python\n",
            "DONE\n"
          ],
          "name": "stdout"
        }
      ]
    },
    {
      "cell_type": "markdown",
      "metadata": {
        "id": "sBs9DF8E2Fp7"
      },
      "source": [
        "Import Caffe for test"
      ]
    },
    {
      "cell_type": "code",
      "metadata": {
        "id": "zftY7m9N0q24",
        "colab": {
          "base_uri": "https://localhost:8080/",
          "height": 509
        },
        "outputId": "1bff6dd8-266a-4739-b400-f3b8a3e73104"
      },
      "source": [
        "#test caffe\n",
        "import sys\n",
        "import os\n",
        "caffe_path = !cd /content/caffe/python\n",
        "sys.path.insert(0, '/content/caffe/python')  \n",
        "import caffe\n",
        "\n",
        "import cv2\n",
        "from matplotlib import pyplot as plt\n",
        "import numpy as np\n",
        "%matplotlib inline\n",
        "\n",
        "from caffe.proto.caffe_pb2 import SolverParameter\n",
        "import google.protobuf.text_format as txtf"
      ],
      "execution_count": null,
      "outputs": [
        {
          "output_type": "error",
          "ename": "ImportError",
          "evalue": "ignored",
          "traceback": [
            "\u001b[0;31m---------------------------------------------------------------------------\u001b[0m",
            "\u001b[0;31mImportError\u001b[0m                               Traceback (most recent call last)",
            "\u001b[0;32m<ipython-input-24-7364b6b12c51>\u001b[0m in \u001b[0;36m<module>\u001b[0;34m()\u001b[0m\n\u001b[1;32m      4\u001b[0m \u001b[0mcaffe_path\u001b[0m \u001b[0;34m=\u001b[0m \u001b[0mget_ipython\u001b[0m\u001b[0;34m(\u001b[0m\u001b[0;34m)\u001b[0m\u001b[0;34m.\u001b[0m\u001b[0mgetoutput\u001b[0m\u001b[0;34m(\u001b[0m\u001b[0;34m'cd /content/caffe/python'\u001b[0m\u001b[0;34m)\u001b[0m\u001b[0;34m\u001b[0m\u001b[0;34m\u001b[0m\u001b[0m\n\u001b[1;32m      5\u001b[0m \u001b[0msys\u001b[0m\u001b[0;34m.\u001b[0m\u001b[0mpath\u001b[0m\u001b[0;34m.\u001b[0m\u001b[0minsert\u001b[0m\u001b[0;34m(\u001b[0m\u001b[0;36m0\u001b[0m\u001b[0;34m,\u001b[0m \u001b[0;34m'/content/caffe/python'\u001b[0m\u001b[0;34m)\u001b[0m\u001b[0;34m\u001b[0m\u001b[0;34m\u001b[0m\u001b[0m\n\u001b[0;32m----> 6\u001b[0;31m \u001b[0;32mimport\u001b[0m \u001b[0mcaffe\u001b[0m\u001b[0;34m\u001b[0m\u001b[0;34m\u001b[0m\u001b[0m\n\u001b[0m\u001b[1;32m      7\u001b[0m \u001b[0;34m\u001b[0m\u001b[0m\n\u001b[1;32m      8\u001b[0m \u001b[0;32mimport\u001b[0m \u001b[0mcv2\u001b[0m\u001b[0;34m\u001b[0m\u001b[0;34m\u001b[0m\u001b[0m\n",
            "\u001b[0;32m/content/caffe/python/caffe/__init__.py\u001b[0m in \u001b[0;36m<module>\u001b[0;34m()\u001b[0m\n\u001b[0;32m----> 1\u001b[0;31m \u001b[0;32mfrom\u001b[0m \u001b[0;34m.\u001b[0m\u001b[0mpycaffe\u001b[0m \u001b[0;32mimport\u001b[0m \u001b[0mNet\u001b[0m\u001b[0;34m,\u001b[0m \u001b[0mSGDSolver\u001b[0m\u001b[0;34m,\u001b[0m \u001b[0mNesterovSolver\u001b[0m\u001b[0;34m,\u001b[0m \u001b[0mAdaGradSolver\u001b[0m\u001b[0;34m,\u001b[0m \u001b[0mRMSPropSolver\u001b[0m\u001b[0;34m,\u001b[0m \u001b[0mAdaDeltaSolver\u001b[0m\u001b[0;34m,\u001b[0m \u001b[0mAdamSolver\u001b[0m\u001b[0;34m\u001b[0m\u001b[0;34m\u001b[0m\u001b[0m\n\u001b[0m\u001b[1;32m      2\u001b[0m \u001b[0;32mfrom\u001b[0m \u001b[0;34m.\u001b[0m\u001b[0m_caffe\u001b[0m \u001b[0;32mimport\u001b[0m \u001b[0mset_mode_cpu\u001b[0m\u001b[0;34m,\u001b[0m \u001b[0mset_mode_gpu\u001b[0m\u001b[0;34m,\u001b[0m \u001b[0mset_device\u001b[0m\u001b[0;34m,\u001b[0m \u001b[0mLayer\u001b[0m\u001b[0;34m,\u001b[0m \u001b[0mget_solver\u001b[0m\u001b[0;34m,\u001b[0m \u001b[0mlayer_type_list\u001b[0m\u001b[0;34m,\u001b[0m \u001b[0mset_random_seed\u001b[0m\u001b[0;34m\u001b[0m\u001b[0;34m\u001b[0m\u001b[0m\n\u001b[1;32m      3\u001b[0m \u001b[0;32mfrom\u001b[0m \u001b[0;34m.\u001b[0m\u001b[0m_caffe\u001b[0m \u001b[0;32mimport\u001b[0m \u001b[0m__version__\u001b[0m\u001b[0;34m\u001b[0m\u001b[0;34m\u001b[0m\u001b[0m\n\u001b[1;32m      4\u001b[0m \u001b[0;32mfrom\u001b[0m \u001b[0;34m.\u001b[0m\u001b[0mproto\u001b[0m\u001b[0;34m.\u001b[0m\u001b[0mcaffe_pb2\u001b[0m \u001b[0;32mimport\u001b[0m \u001b[0mTRAIN\u001b[0m\u001b[0;34m,\u001b[0m \u001b[0mTEST\u001b[0m\u001b[0;34m\u001b[0m\u001b[0;34m\u001b[0m\u001b[0m\n\u001b[1;32m      5\u001b[0m \u001b[0;32mfrom\u001b[0m \u001b[0;34m.\u001b[0m\u001b[0mclassifier\u001b[0m \u001b[0;32mimport\u001b[0m \u001b[0mClassifier\u001b[0m\u001b[0;34m\u001b[0m\u001b[0;34m\u001b[0m\u001b[0m\n",
            "\u001b[0;32m/content/caffe/python/caffe/pycaffe.py\u001b[0m in \u001b[0;36m<module>\u001b[0;34m()\u001b[0m\n\u001b[1;32m     11\u001b[0m \u001b[0;32mimport\u001b[0m \u001b[0mnumpy\u001b[0m \u001b[0;32mas\u001b[0m \u001b[0mnp\u001b[0m\u001b[0;34m\u001b[0m\u001b[0;34m\u001b[0m\u001b[0m\n\u001b[1;32m     12\u001b[0m \u001b[0;34m\u001b[0m\u001b[0m\n\u001b[0;32m---> 13\u001b[0;31m \u001b[0;32mfrom\u001b[0m \u001b[0;34m.\u001b[0m\u001b[0m_caffe\u001b[0m \u001b[0;32mimport\u001b[0m \u001b[0mNet\u001b[0m\u001b[0;34m,\u001b[0m \u001b[0mSGDSolver\u001b[0m\u001b[0;34m,\u001b[0m \u001b[0mNesterovSolver\u001b[0m\u001b[0;34m,\u001b[0m \u001b[0mAdaGradSolver\u001b[0m\u001b[0;34m,\u001b[0m\u001b[0;31m \u001b[0m\u001b[0;31m\\\u001b[0m\u001b[0;34m\u001b[0m\u001b[0;34m\u001b[0m\u001b[0m\n\u001b[0m\u001b[1;32m     14\u001b[0m         \u001b[0mRMSPropSolver\u001b[0m\u001b[0;34m,\u001b[0m \u001b[0mAdaDeltaSolver\u001b[0m\u001b[0;34m,\u001b[0m \u001b[0mAdamSolver\u001b[0m\u001b[0;34m\u001b[0m\u001b[0;34m\u001b[0m\u001b[0m\n\u001b[1;32m     15\u001b[0m \u001b[0;32mimport\u001b[0m \u001b[0mcaffe\u001b[0m\u001b[0;34m.\u001b[0m\u001b[0mio\u001b[0m\u001b[0;34m\u001b[0m\u001b[0;34m\u001b[0m\u001b[0m\n",
            "\u001b[0;31mImportError\u001b[0m: dynamic module does not define module export function (PyInit__caffe)",
            "",
            "\u001b[0;31m---------------------------------------------------------------------------\u001b[0;32m\nNOTE: If your import is failing due to a missing package, you can\nmanually install dependencies using either !pip or !apt.\n\nTo view examples of installing some common dependencies, click the\n\"Open Examples\" button below.\n\u001b[0;31m---------------------------------------------------------------------------\u001b[0m\n"
          ]
        }
      ]
    },
    {
      "cell_type": "markdown",
      "metadata": {
        "id": "Zq_wmqgflarR"
      },
      "source": [
        "# Read file"
      ]
    },
    {
      "cell_type": "code",
      "metadata": {
        "colab": {
          "base_uri": "https://localhost:8080/"
        },
        "id": "tpyWnLCLkZOt",
        "outputId": "2454720d-eb07-428e-dcdb-ea1acfcb8be7"
      },
      "source": [
        "# This mounts your Google Drive to the Colab VM.\n",
        "from google.colab import drive\n",
        "drive.mount('/content/drive')\n",
        "\n",
        "FOLDERNAME = 'FaceAttribute/FaceAttribute/'\n",
        "assert FOLDERNAME is not None, \"[!] Enter the foldername.\"\n",
        "\n",
        "import sys\n",
        "sys.path.append('/content/drive/My Drive/{}'.format(FOLDERNAME))\n",
        "\n",
        "%cd /content/drive/My\\ Drive/$FOLDERNAME"
      ],
      "execution_count": null,
      "outputs": [
        {
          "output_type": "stream",
          "text": [
            "Mounted at /content/drive\n",
            "/content/drive/My Drive/FaceAttribute/FaceAttribute\n"
          ],
          "name": "stdout"
        }
      ]
    },
    {
      "cell_type": "code",
      "metadata": {
        "colab": {
          "base_uri": "https://localhost:8080/"
        },
        "id": "Mwip7Mn9klyk",
        "outputId": "b404281f-9b31-45d9-9c96-0d81968885a1"
      },
      "source": [
        "!sh demo_single_path.sh"
      ],
      "execution_count": null,
      "outputs": [
        {
          "output_type": "stream",
          "text": [
            "Traceback (most recent call last):\n",
            "  File \"evaluation/prediction_single_path.py\", line 3, in <module>\n",
            "    import caffe\n",
            "  File \"/usr/lib/python3/dist-packages/caffe/__init__.py\", line 1, in <module>\n",
            "    from .pycaffe import Net, SGDSolver, NesterovSolver, AdaGradSolver, RMSPropSolver, AdaDeltaSolver, AdamSolver, NCCL, Timer\n",
            "  File \"/usr/lib/python3/dist-packages/caffe/pycaffe.py\", line 13, in <module>\n",
            "    from ._caffe import Net, SGDSolver, NesterovSolver, AdaGradSolver, \\\n",
            "ModuleNotFoundError: No module named 'caffe._caffe'\n"
          ],
          "name": "stdout"
        }
      ]
    },
    {
      "cell_type": "code",
      "metadata": {
        "id": "0DxpOTaGkuJU"
      },
      "source": [
        ""
      ],
      "execution_count": null,
      "outputs": []
    }
  ]
}